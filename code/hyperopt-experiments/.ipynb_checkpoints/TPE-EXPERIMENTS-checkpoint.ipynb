{
 "cells": [
  {
   "cell_type": "code",
   "execution_count": 1,
   "metadata": {},
   "outputs": [],
   "source": [
    "import numpy as np\n",
    "import matplotlib.pyplot as plt\n",
    "from hyperopt import fmin, tpe, hp, STATUS_OK, Trials\n",
    "import pandas as pd\n",
    "import os\n",
    "import math\n",
    "import subprocess"
   ]
  },
  {
   "cell_type": "markdown",
   "metadata": {},
   "source": [
    "## Test functions"
   ]
  },
  {
   "cell_type": "code",
   "execution_count": 2,
   "metadata": {},
   "outputs": [],
   "source": [
    "def hump_nf(*args):\n",
    "    x = args[0][0]\n",
    "    y = args[0][1]\n",
    "    result = (4 - 2.1*x**2 + x**4/3)*x**2 + x*y + (-4 + 4*y**2)*y**2\n",
    "    result = float(result)\n",
    "    now = np.array([x, y], dtype=np.float)\n",
    "    point1 = np.array([0.0898, -0.7126], dtype=np.float)\n",
    "    point2 = np.array([-0.0898, 0.7126], dtype=np.float)\n",
    "    min_dist = min(((point1 - now)**2).sum()**.5, ((point2 - now)**2).sum()**.5)\n",
    "    return {'loss': result, 'status': STATUS_OK, 'dist': min_dist, 'pure_loss': result}"
   ]
  },
  {
   "cell_type": "code",
   "execution_count": 20,
   "metadata": {},
   "outputs": [],
   "source": [
    "def hump_noisy(*args):\n",
    "    x = args[0][0]\n",
    "    y = args[0][1]\n",
    "    result = (4 - 2.1*x**2 + x**4/3)*x**2 + x*y + (-4 + 4*y**2)*y**2\n",
    "    result = float(result)\n",
    "    now = np.array([x, y], dtype=np.float)\n",
    "    point1 = np.array([0.0898, -0.7126], dtype=np.float)\n",
    "    point2 = np.array([-0.0898, 0.7126], dtype=np.float)\n",
    "    min_dist = min(((point1 - now)**2).sum()**.5, ((point2 - now)**2).sum()**.5)\n",
    "    noise = np.random.normal() * 0.1\n",
    "\n",
    "    return {'loss': result + noise, 'status': STATUS_OK, 'dist': min_dist, 'pure_loss': result, 'loss_variance':0.1}"
   ]
  },
  {
   "cell_type": "code",
   "execution_count": 4,
   "metadata": {},
   "outputs": [],
   "source": [
    "def branin_nf(*args):\n",
    "    x = args[0][0]\n",
    "    y = args[0][1]\n",
    "    result = np.square(y - (5.1/(4*np.square(math.pi)))*np.square(x) + \n",
    "         (5/math.pi)*x - 6) + 10*(1-(1./(8*math.pi)))*np.cos(x) + 10\n",
    "    result = float(result)\n",
    "    now = np.array([x, y], dtype=np.float)\n",
    "    point1 = np.array([-np.pi, 12.275], dtype=np.float)\n",
    "    point2 = np.array([np.pi, 2.275], dtype=np.float)\n",
    "    point3 = np.array([9.42478, 2.475], dtype=np.float)\n",
    "    min_dist = min(((point1 - now)**2).sum()**.5, ((point2 - now)**2).sum()**.5)\n",
    "    min_dist = min(min_dist, ((point3 - now)**2).sum()**.5)\n",
    "    return {'loss': result, 'status': STATUS_OK, 'dist': min_dist, 'pure_loss': result}"
   ]
  },
  {
   "cell_type": "code",
   "execution_count": 21,
   "metadata": {},
   "outputs": [],
   "source": [
    "def branin_noisy(*args):#\n",
    "    x = args[0][0]\n",
    "    y = args[0][1]\n",
    "    result = np.square(y - (5.1/(4*np.square(math.pi)))*np.square(x) + \n",
    "         (5/math.pi)*x - 6) + 10*(1-(1./(8*math.pi)))*np.cos(x) + 10\n",
    "    \n",
    "    result = float(result)\n",
    "    now = np.array([x, y], dtype=np.float)\n",
    "    point1 = np.array([-np.pi, 12.275], dtype=np.float)\n",
    "    point2 = np.array([np.pi, 2.275], dtype=np.float)\n",
    "    point3 = np.array([9.42478, 2.475], dtype=np.float)\n",
    "    min_dist = min(((point1 - now)**2).sum()**.5, ((point2 - now)**2).sum()**.5)\n",
    "    min_dist = min(min_dist, ((point3 - now)**2).sum()**.5)\n",
    "    noise = np.random.normal() * 0.1\n",
    "    return {'loss': result + noise, 'status': STATUS_OK, 'dist': min_dist, 'pure_loss': result, 'loss_variance':0.1}"
   ]
  },
  {
   "cell_type": "code",
   "execution_count": 6,
   "metadata": {},
   "outputs": [],
   "source": [
    "def griewank_nf(*args):\n",
    "    x = np.array(args[0])\n",
    "    result = 1 + 1.0/4000 * (x**2).sum() - np.prod(np.cos(x/np.arange(1, x.size + 1)**0.5))\n",
    "    result = float(result)\n",
    "    min_dist = (x ** 2).sum()**.5\n",
    "    return {'loss': result, 'status': STATUS_OK, 'dist': min_dist, 'pure_loss': result}"
   ]
  },
  {
   "cell_type": "code",
   "execution_count": 22,
   "metadata": {},
   "outputs": [],
   "source": [
    "def griewank_noisy(*args):\n",
    "    x = np.array(args[0])\n",
    "    result = 1 + 1.0/4000 * (x**2).sum() - np.prod(np.cos(x/np.arange(1, x.size + 1)**.5))\n",
    "    result = float(result)\n",
    "    min_dist = (x**2).sum()**.5\n",
    "    noise = np.random.normal() * 0.1\n",
    "    return {'loss': result + noise, 'status': STATUS_OK, 'dist': min_dist, 'pure_loss': result, 'loss_variance':0.1}"
   ]
  },
  {
   "cell_type": "code",
   "execution_count": 8,
   "metadata": {},
   "outputs": [],
   "source": [
    "def rosenbrock_nf(*args):\n",
    "    x = args[0][0]\n",
    "    y = args[0][1]\n",
    "    result = 100*(y - x**2)**2 + (x - 1)**2\n",
    "    result = float(result)\n",
    "    now = np.array([x, y], dtype=np.float)\n",
    "    point1 = np.array([1, 1], dtype=np.float)\n",
    "    min_dist = ((point1 - now)**2).sum()**.5\n",
    "    return {'loss': result, 'status': STATUS_OK, 'dist': min_dist, 'pure_loss': result,}"
   ]
  },
  {
   "cell_type": "code",
   "execution_count": 23,
   "metadata": {},
   "outputs": [],
   "source": [
    "def rosenbrock_noisy(*args):#\n",
    "    x = args[0][0]\n",
    "    y = args[0][1]\n",
    "    result = 100*(y - x**2)**2 + (x - 1)**2\n",
    "    result = float(result)\n",
    "    now = np.array([x, y], dtype=np.float)\n",
    "    point1 = np.array([1, 1], dtype=np.float)\n",
    "    min_dist = ((point1 - now)**2).sum()**.5\n",
    "    noise = np.random.normal() * 0.1\n",
    "    return {'loss': result + noise, 'status': STATUS_OK, 'dist': min_dist, 'pure_loss': result, 'loss_variance':0.1}"
   ]
  },
  {
   "cell_type": "code",
   "execution_count": 10,
   "metadata": {},
   "outputs": [],
   "source": [
    "def learn_svm(*args):\n",
    "    C, gamma = args[0]\n",
    "    command = ['../experiments_results/SVC_MNIST/learn.sh',\n",
    "               '--gamma', str(float(gamma)), '--C', str(float(C))]\n",
    "    p = subprocess.Popen(command, stdout=subprocess.PIPE)\n",
    "    result, _ = p.communicate()\n",
    "    result = float(result)\n",
    "    print('Result = %f' % result)\n",
    "    return {'loss': -result, 'status': STATUS_OK, 'pure_loss': -result}"
   ]
  },
  {
   "cell_type": "markdown",
   "metadata": {},
   "source": [
    "Experiments: acquisition function EI"
   ]
  },
  {
   "cell_type": "code",
   "execution_count": 11,
   "metadata": {},
   "outputs": [],
   "source": [
    "# function, space to optimize\n",
    "params = [(hump_nf,           [hp.uniform('x', -3, 3), hp.uniform('y', -2, 2)]),\n",
    "          (hump_noisy,        [hp.uniform('x', -3, 3), hp.uniform('y', -2, 2)]),\n",
    "          (branin_nf,         [hp.uniform('x', -5, 10), hp.uniform('y', 0, 15)]),\n",
    "          (branin_noisy,      [hp.uniform('x', -5, 10), hp.uniform('y', 0, 15)]),\n",
    "          (rosenbrock_nf,     [hp.uniform('x', -5, 10), hp.uniform('y', -5, 10)]),\n",
    "          (rosenbrock_noisy,  [hp.uniform('x', -5, 10), hp.uniform('y', -5, 10)]),\n",
    "          (griewank_nf,       [hp.uniform('x1', -2, 2), hp.uniform('x2', -2, 2),\n",
    "                               hp.uniform('x3', -2, 2), hp.uniform('x4', -2, 2),\n",
    "                               hp.uniform('x5', -2, 2), hp.uniform('x6', -2, 2)]),\n",
    "          (griewank_noisy,    [hp.uniform('x1', -2, 2), hp.uniform('x2', -2, 2), \\\n",
    "                               hp.uniform('x3', -2, 2), hp.uniform('x4', -2, 2), \\\n",
    "                               hp.uniform('x5', -2, 2), hp.uniform('x6', -2, 2)]),\n",
    "          (learn_svm,         [hp.uniform('C', 1, 10000), hp.uniform('gamma', 1e-6, 1e-1)])\n",
    "         ]"
   ]
  },
  {
   "cell_type": "code",
   "execution_count": 12,
   "metadata": {},
   "outputs": [
    {
     "name": "stdout",
     "output_type": "stream",
     "text": [
      "100%|██████████| 40/40 [00:00<00:00, 460.92trial/s, best loss: -0.9357488810776489]\n",
      "100%|██████████| 40/40 [00:00<00:00, 483.88trial/s, best loss: -0.925523490399078]\n",
      "100%|██████████| 40/40 [00:00<00:00, 465.74trial/s, best loss: 0.46918071300170183]\n",
      "100%|██████████| 40/40 [00:00<00:00, 465.58trial/s, best loss: 0.4661575558814838]\n",
      "100%|██████████| 40/40 [00:00<00:00, 472.65trial/s, best loss: 8.469610660359107]\n",
      "100%|██████████| 40/40 [00:00<00:00, 467.68trial/s, best loss: 8.489765446372754]\n",
      "100%|██████████| 40/40 [00:00<00:00, 186.89trial/s, best loss: 0.3444331547876719]\n",
      "100%|██████████| 40/40 [00:00<00:00, 186.40trial/s, best loss: 0.34227903451537073]\n",
      "Result = 0.955800                                     \n",
      "Result = 0.926100                                                       \n",
      "Result = 0.935100                                                       \n",
      "Result = 0.920100                                                       \n",
      "Result = 0.933800                                                       \n",
      "Result = 0.892900                                                       \n",
      "Result = 0.857300                                                       \n",
      "Result = 0.937900                                                       \n",
      "Result = 0.935200                                                       \n",
      "Result = 0.944000                                                       \n",
      "Result = 0.952400                                                        \n",
      "Result = 0.925100                                                        \n",
      "Result = 0.913600                                                        \n",
      "Result = 0.941800                                                          \n",
      "Result = 0.947700                                                          \n",
      "Result = 0.897400                                                          \n",
      "Result = 0.932000                                                          \n",
      "Result = 0.918600                                                          \n",
      "Result = 0.932000                                                          \n",
      "Result = 0.908000                                                          \n",
      "Result = 0.945300                                                          \n",
      "Result = 0.938200                                                          \n",
      "Result = 0.951100                                                          \n",
      "Result = 0.950300                                                          \n",
      "Result = 0.884100                                                        \n",
      "Result = 0.947000                                                        \n",
      "Result = 0.946400                                                        \n",
      "Result = 0.939600                                                        \n",
      "Result = 0.928600                                                        \n",
      "Result = 0.948200                                                        \n",
      "Result = 0.918700                                                        \n",
      "Result = 0.937600                                                        \n",
      "Result = 0.944600                                                        \n",
      "Result = 0.940700                                                        \n",
      "Result = 0.816000                                                        \n",
      "Result = 0.946400                                                        \n",
      "Result = 0.918000                                                        \n",
      "Result = 0.921700                                                        \n",
      "Result = 0.937100                                                        \n",
      "Result = 0.953400                                                        \n",
      "100%|██████████| 40/40 [2:39:44<00:00, 239.61s/trial, best loss: -0.9558]\n"
     ]
    }
   ],
   "source": [
    "out_dir = os.path.join('results')\n",
    "if not os.path.isdir(out_dir):\n",
    "    os.makedirs(out_dir)\n",
    "\n",
    "# with gaussian noise, sigma = 0.01\n",
    "for func, space in params:\n",
    "    trials = Trials()\n",
    "    best = fmin(func, space=space, algo=tpe.suggest, max_evals=40,\n",
    "                rstate=np.random.RandomState(1), trials=trials)\n",
    "    key = list(trials.idxs_vals[0].keys())[0]\n",
    "    tpe_results = pd.DataFrame({'loss': [x['pure_loss'] for x in trials.results], \n",
    "                                'iteration': trials.idxs_vals[0][key],\n",
    "                                **trials.idxs_vals[1]})\n",
    "    tpe_results = tpe_results.set_index('iteration')\n",
    "    tpe_results.to_csv(os.path.join(out_dir, func.__name__)+'.csv')"
   ]
  },
  {
   "cell_type": "code",
   "execution_count": 24,
   "metadata": {},
   "outputs": [
    {
     "name": "stdout",
     "output_type": "stream",
     "text": [
      "100%|██████████| 40/40 [00:00<00:00, 465.13trial/s, best loss: -0.9357488810776489]\n",
      "100%|██████████| 40/40 [00:00<00:00, 497.01trial/s, best loss: -0.9456970183325553]\n",
      "100%|██████████| 40/40 [00:00<00:00, 475.18trial/s, best loss: 0.46918071300170183]\n",
      "100%|██████████| 40/40 [00:00<00:00, 473.15trial/s, best loss: 0.4477637495585467]\n",
      "100%|██████████| 40/40 [00:00<00:00, 482.27trial/s, best loss: 8.469610660359107]\n",
      "100%|██████████| 40/40 [00:00<00:00, 478.38trial/s, best loss: 8.470332081558494]\n",
      "100%|██████████| 40/40 [00:00<00:00, 188.02trial/s, best loss: 0.3444331547876719]\n",
      "100%|██████████| 40/40 [00:00<00:00, 186.35trial/s, best loss: 0.3391296940054707]\n"
     ]
    }
   ],
   "source": [
    "out_dir = os.path.join('results')\n",
    "if not os.path.isdir(out_dir):\n",
    "    os.makedirs(out_dir)\n",
    "\n",
    "# with gaussian noise, sigma = 0.1\n",
    "for func, space in params[:-1]:\n",
    "    trials = Trials()\n",
    "    best = fmin(func, space=space, algo=tpe.suggest, max_evals=40,\n",
    "                rstate=np.random.RandomState(1), trials=trials)\n",
    "    key = list(trials.idxs_vals[0].keys())[0]\n",
    "    tpe_results = pd.DataFrame({'loss': [x['pure_loss'] for x in trials.results], \n",
    "                                'iteration': trials.idxs_vals[0][key],\n",
    "                                **trials.idxs_vals[1]})\n",
    "    tpe_results = tpe_results.set_index('iteration')\n",
    "    tpe_results.to_csv(os.path.join(out_dir, func.__name__)+'.csv')"
   ]
  },
  {
   "cell_type": "code",
   "execution_count": null,
   "metadata": {},
   "outputs": [],
   "source": []
  }
 ],
 "metadata": {
  "kernelspec": {
   "display_name": "Python 3",
   "language": "python",
   "name": "python3"
  },
  "language_info": {
   "codemirror_mode": {
    "name": "ipython",
    "version": 3
   },
   "file_extension": ".py",
   "mimetype": "text/x-python",
   "name": "python",
   "nbconvert_exporter": "python",
   "pygments_lexer": "ipython3",
   "version": "3.8.1"
  }
 },
 "nbformat": 4,
 "nbformat_minor": 4
}
