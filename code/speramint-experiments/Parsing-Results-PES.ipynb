{
 "cells": [
  {
   "cell_type": "code",
   "execution_count": 8,
   "metadata": {},
   "outputs": [],
   "source": [
    "import os\n",
    "import sys\n",
    "import numpy as np\n",
    "import pandas as pd\n",
    "import re"
   ]
  },
  {
   "cell_type": "markdown",
   "metadata": {},
   "source": [
    "### SPEARMINT: Predictive Entropy Search\n",
    "\n",
    "Parse-Experiments"
   ]
  },
  {
   "cell_type": "code",
   "execution_count": 9,
   "metadata": {},
   "outputs": [],
   "source": [
    "def read_tail(f, lines=1, buffer_size=4098):\n",
    "    lines_found = []\n",
    "    block_counter = -1\n",
    "    while len(lines_found) < lines:\n",
    "        try:\n",
    "            f.seek(block_counter * buffer_size, os.SEEK_END)\n",
    "        except IOError:\n",
    "            f.seek(0)\n",
    "            lines_found = f.readlines()\n",
    "            break\n",
    "\n",
    "        lines_found = f.readlines()\n",
    "        block_counter -= 1\n",
    "\n",
    "    return lines_found[-lines:]"
   ]
  },
  {
   "cell_type": "code",
   "execution_count": 10,
   "metadata": {},
   "outputs": [],
   "source": [
    "def parse_experiment(exp_dir, range_min, range_max, use_dist=False):\n",
    "    results = pd.DataFrame(columns=['iteration', 'pure_loss'])\n",
    "    if use_dist:\n",
    "        results['dist'] = None\n",
    "    output_dir = os.path.join(exp_dir, 'output')\n",
    "    for i in range(range_min, range_max+1):\n",
    "        file_name = \"{:08d}\".format(i) + '.out'\n",
    "        file_path = os.path.join(output_dir, file_name)\n",
    "        with open(file_path, 'rb') as f:\n",
    "            lines = read_tail(f, lines=2)\n",
    "        if use_dist:\n",
    "            cur_r = re.findall(r\"[-+]?\\d*\\.\\d+|\\d+\", lines[0].decode(\"utf-8\").strip())[0]\n",
    "            cur_d = re.findall(r\"[-+]?\\d*\\.\\d+|\\d+\", lines[1].decode(\"utf-8\").strip())[0]\n",
    "            results = results.append({'iteration':i, 'pure_loss':float(cur_r), 'dist':float(cur_d)},\n",
    "                                     ignore_index=True)\n",
    "        else:\n",
    "            cur_r = re.findall(r\"[-+]?\\d*\\.\\d+|\\d+\", lines[1].decode(\"utf-8\").strip())[0]\n",
    "            results = results.append({'iteration':i, 'pure_loss':float(cur_r)},\n",
    "                                     ignore_index=True)\n",
    "    results['iteration'] = results['iteration'].astype('int')\n",
    "    results = results.set_index('iteration')\n",
    "    return results"
   ]
  },
  {
   "cell_type": "code",
   "execution_count": 11,
   "metadata": {},
   "outputs": [
    {
     "data": {
      "text/plain": [
       "['6hump_nf',\n",
       " '6hump_noisy',\n",
       " 'MNIST_SVM',\n",
       " 'branin_nf',\n",
       " 'branin_noisy',\n",
       " 'griewank6_nf',\n",
       " 'griewank6_noisy',\n",
       " 'rosenbrock_nf',\n",
       " 'rosenbrock_noisy']"
      ]
     },
     "execution_count": 11,
     "metadata": {},
     "output_type": "execute_result"
    }
   ],
   "source": [
    "sorted(os.listdir('../Spearmint-PESM/experiments_PES/'))"
   ]
  },
  {
   "cell_type": "code",
   "execution_count": 12,
   "metadata": {},
   "outputs": [],
   "source": [
    "save_names = [\n",
    " 'hump_nf',\n",
    " 'hump_noisy',\n",
    " 'MNIST_SVM',\n",
    " 'branin_nf',\n",
    " 'branin_noisy',\n",
    " 'griewank_nf',\n",
    " 'griewank_noisy',\n",
    " 'rosenbrock_nf',\n",
    " 'rosenbrock_noisy']"
   ]
  },
  {
   "cell_type": "code",
   "execution_count": 14,
   "metadata": {},
   "outputs": [],
   "source": [
    "out_dir = os.path.join('results')\n",
    "if not os.path.isdir(out_dir):\n",
    "    os.makedirs(out_dir)\n",
    "\n",
    "\n",
    "for exp_name, save_name in zip(sorted(os.listdir('../Spearmint-PESM/experiments_PES/')), save_names):\n",
    "    dist = 'SVM' not in exp_name\n",
    "    full_name = os.path.join('../Spearmint-PESM/experiments_PES/', exp_name)\n",
    "    df = parse_experiment(full_name, 1, 40, dist)\n",
    "    df.to_csv(os.path.join(out_dir, save_name)+'.csv')"
   ]
  },
  {
   "cell_type": "code",
   "execution_count": null,
   "metadata": {},
   "outputs": [],
   "source": []
  }
 ],
 "metadata": {
  "kernelspec": {
   "display_name": "Python 3",
   "language": "python",
   "name": "python3"
  },
  "language_info": {
   "codemirror_mode": {
    "name": "ipython",
    "version": 3
   },
   "file_extension": ".py",
   "mimetype": "text/x-python",
   "name": "python",
   "nbconvert_exporter": "python",
   "pygments_lexer": "ipython3",
   "version": "3.8.1"
  }
 },
 "nbformat": 4,
 "nbformat_minor": 4
}
