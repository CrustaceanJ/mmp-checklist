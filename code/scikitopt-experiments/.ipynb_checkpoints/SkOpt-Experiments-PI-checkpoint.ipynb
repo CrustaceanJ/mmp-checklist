{
 "cells": [
  {
   "cell_type": "code",
   "execution_count": 1,
   "metadata": {},
   "outputs": [],
   "source": [
    "import skopt\n",
    "import numpy as np\n",
    "import pandas as pd\n",
    "import os\n",
    "import math\n",
    "import subprocess\n",
    "from skopt import Optimizer\n",
    "from skopt.space import Real\n",
    "from skopt.learning import GaussianProcessRegressor\n",
    "from skopt.learning.gaussian_process.kernels import ConstantKernel, Matern, RBF, RationalQuadratic\n",
    "from skopt import gp_minimize"
   ]
  },
  {
   "cell_type": "markdown",
   "metadata": {},
   "source": [
    "## Test Functions"
   ]
  },
  {
   "cell_type": "code",
   "execution_count": 2,
   "metadata": {},
   "outputs": [],
   "source": [
    "def hump_nf(args):\n",
    "    x, y = args\n",
    "    result = (4 - 2.1*x**2 + x**4/3)*x**2 + x*y + (-4 + 4*y**2)*y**2\n",
    "    result = float(result)\n",
    "    return result"
   ]
  },
  {
   "cell_type": "code",
   "execution_count": 3,
   "metadata": {},
   "outputs": [],
   "source": [
    "def hump_noisy(args):\n",
    "    x, y = args\n",
    "    result = (4 - 2.1*x**2 + x**4/3)*x**2 + x*y + (-4 + 4*y**2)*y**2\n",
    "    result = float(result)\n",
    "    noise = np.random.normal() * 0.1\n",
    "    return result + noise"
   ]
  },
  {
   "cell_type": "code",
   "execution_count": 4,
   "metadata": {},
   "outputs": [],
   "source": [
    "def branin_nf(args):\n",
    "    x, y = args\n",
    "    result = np.square(y - (5.1/(4*np.square(math.pi)))*np.square(x) + \n",
    "         (5/math.pi)*x - 6) + 10*(1-(1./(8*math.pi)))*np.cos(x) + 10\n",
    "    result = float(result)\n",
    "    return result"
   ]
  },
  {
   "cell_type": "code",
   "execution_count": 5,
   "metadata": {},
   "outputs": [],
   "source": [
    "def branin_noisy(args):\n",
    "    x, y = args\n",
    "    result = np.square(y - (5.1/(4*np.square(math.pi)))*np.square(x) + \n",
    "         (5/math.pi)*x - 6) + 10*(1-(1./(8*math.pi)))*np.cos(x) + 10\n",
    "    result = float(result)\n",
    "    noise = np.random.normal() * 0.1\n",
    "    return result + noise"
   ]
  },
  {
   "cell_type": "code",
   "execution_count": 6,
   "metadata": {},
   "outputs": [],
   "source": [
    "def griewank_nf(args):\n",
    "    x = np.array(args)\n",
    "    result = 1 + 1.0/4000 * (x**2).sum() - np.prod(np.cos(x/np.arange(1, x.size + 1)**0.5))\n",
    "    result = float(result)\n",
    "    return result"
   ]
  },
  {
   "cell_type": "code",
   "execution_count": 7,
   "metadata": {},
   "outputs": [],
   "source": [
    "def griewank_noisy(args):\n",
    "    x = np.array(args)\n",
    "    result = 1 + 1.0/4000 * (x**2).sum() - np.prod(np.cos(x/np.arange(1, x.size + 1)**.5))\n",
    "    result = float(result)\n",
    "    noise = np.random.normal() * 0.1\n",
    "    return result + noise"
   ]
  },
  {
   "cell_type": "code",
   "execution_count": 8,
   "metadata": {},
   "outputs": [],
   "source": [
    "def rosenbrock_nf(args):\n",
    "    x, y = args\n",
    "    result = 100*(y - x**2)**2 + (x - 1)**2\n",
    "    result = float(result)\n",
    "    return result"
   ]
  },
  {
   "cell_type": "code",
   "execution_count": 9,
   "metadata": {},
   "outputs": [],
   "source": [
    "def rosenbrock_noisy(args):\n",
    "    x, y = args\n",
    "    result = 100*(y - x**2)**2 + (x - 1)**2\n",
    "    result = float(result)\n",
    "    noise = np.random.normal() * 0.1\n",
    "    return result + noise"
   ]
  },
  {
   "cell_type": "code",
   "execution_count": 10,
   "metadata": {},
   "outputs": [],
   "source": [
    "def learn_svm(args):\n",
    "    C, gamma = args\n",
    "    command = ['../experiments_results/SVC_MNIST/learn.sh',\n",
    "               '--gamma', str(float(gamma)), '--C', str(float(C))]\n",
    "    p = subprocess.Popen(command, stdout=subprocess.PIPE)\n",
    "    result, _ = p.communicate()\n",
    "    result = float(result)\n",
    "    print('Result = %f' % result)\n",
    "    return -result"
   ]
  },
  {
   "cell_type": "code",
   "execution_count": null,
   "metadata": {},
   "outputs": [],
   "source": []
  },
  {
   "cell_type": "markdown",
   "metadata": {},
   "source": [
    "## Test GP-PI"
   ]
  },
  {
   "cell_type": "code",
   "execution_count": 11,
   "metadata": {},
   "outputs": [],
   "source": [
    "acq = 'PI'\n",
    "n_calls = 40"
   ]
  },
  {
   "cell_type": "code",
   "execution_count": 12,
   "metadata": {},
   "outputs": [],
   "source": [
    "# function, space to optimize\n",
    "params = [(hump_nf,           [Real(-3, 3, name='x', transform='identity'),\n",
    "                               Real(-2, 2, name='y', transform='identity')], 0.0,\n",
    "                              (np.array([0.0898, -0.7126], dtype=np.float),\n",
    "                               np.array([-0.0898, 0.7126], dtype=np.float)), ('x', 'y')),\n",
    "          (hump_noisy,        [Real(-3, 3, name='x', transform='identity'),\n",
    "                               Real(-2, 2, name='y', transform='identity')], 0.1,\n",
    "                              (np.array([0.0898, -0.7126], dtype=np.float),\n",
    "                               np.array([-0.0898, 0.7126], dtype=np.float)), ('x', 'y')),\n",
    "          (branin_nf,         [Real(-5, 10, name='x', transform='identity'),\n",
    "                               Real(0, 15, name='y', transform='identity')], 0.0,\n",
    "                              (np.array([-np.pi, 12.275], dtype=np.float),\n",
    "                               np.array([np.pi, 2.275], dtype=np.float),\n",
    "                               np.array([9.42478, 2.475], dtype=np.float)), ('x', 'y')),\n",
    "          (branin_noisy,      [Real(-5, 10, name='x', transform='identity'),\n",
    "                               Real(0, 15, name='y', transform='identity')], 0.1,\n",
    "                              (np.array([-np.pi, 12.275], dtype=np.float),\n",
    "                               np.array([np.pi, 2.275], dtype=np.float),\n",
    "                               np.array([9.42478, 2.475], dtype=np.float)), ('x', 'y')),\n",
    "          (rosenbrock_nf,     [Real(-5, 10, name='x', transform='identity'),\n",
    "                               Real(-5, 10, name='y', transform='identity')], 0.0,\n",
    "                              (np.array([1, 1], dtype=np.float),), ('x', 'y')),\n",
    "          (rosenbrock_noisy,  [Real(-5, 10, name='x', transform='identity'),\n",
    "                               Real(-5, 10, name='y', transform='identity')], 0.1,\n",
    "                              (np.array([1, 1], dtype=np.float),), ('x', 'y')),\n",
    "          (griewank_nf,       [Real(-2, 2, name='x1', transform='identity'),\n",
    "                               Real(-2, 2, name='x2', transform='identity'),\n",
    "                               Real(-2, 2, name='x3', transform='identity'),\n",
    "                               Real(-2, 2, name='x4', transform='identity'),\n",
    "                               Real(-2, 2, name='x5', transform='identity'),\n",
    "                               Real(-2, 2, name='x6', transform='identity')], 0.0,\n",
    "                              (np.zeros(6, dtype=np.float,)), ('x1', 'x2', 'x3', 'x4', 'x5', 'x6')),\n",
    "          (griewank_noisy,    [Real(-2, 2, name='x1', transform='identity'),\n",
    "                               Real(-2, 2, name='x2', transform='identity'),\n",
    "                               Real(-2, 2, name='x3', transform='identity'),\n",
    "                               Real(-2, 2, name='x4', transform='identity'),\n",
    "                               Real(-2, 2, name='x5', transform='identity'),\n",
    "                               Real(-2, 2, name='x6', transform='identity')], 0.1,\n",
    "                              (np.zeros(6, dtype=np.float,)), ('x1', 'x2', 'x3', 'x4', 'x5', 'x6')),\n",
    "          (learn_svm,         [Real(1, 10000, name='C', transform='identity'),\n",
    "                               Real(1e-6, 1e-1, name='gamma', transform='identity')], 0.0,\n",
    "                              (None, ), ('C', 'gamma'))\n",
    "         ]"
   ]
  },
  {
   "cell_type": "code",
   "execution_count": null,
   "metadata": {},
   "outputs": [],
   "source": [
    "out_dir = os.path.join('results_'+acq)\n",
    "if not os.path.isdir(out_dir):\n",
    "    os.makedirs(out_dir)\n",
    "\n",
    "prev_func = None\n",
    "for i, (func, space, noise_level, pts, h_names) in enumerate(params):\n",
    "    kernel = 1.0 * Matern(length_scale=1.0, length_scale_bounds=(1e-1, 10.0), nu=2.5)\n",
    "    gpr = GaussianProcessRegressor(kernel=kernel, alpha=noise_level**2,\n",
    "                                   normalize_y=True, noise=\"gaussian\")\n",
    "    opt_gp = Optimizer(space, base_estimator=gpr, acq_func=acq, n_initial_points=1,\n",
    "            acq_optimizer=\"auto\", random_state=np.random.RandomState(1))\n",
    "    \n",
    "    for n in range(n_calls):\n",
    "        next_x = opt_gp.ask()\n",
    "        next_y = func(next_x)\n",
    "        result = opt_gp.tell(next_x, next_y)\n",
    "    if i % 2:\n",
    "        pure_loss = [prev_func(x) for x in result.x_iters]\n",
    "    else:\n",
    "        pure_loss = result.func_vals\n",
    "    if func != learn_svm:\n",
    "        dist = []\n",
    "        for x in result.x_iters:\n",
    "            min_dst = np.linalg.norm(x - pts[0])\n",
    "            for k in range(1, len(pts)):\n",
    "                min_dst = min(min_dst, np.linalg.norm(x - pts[k]))\n",
    "            dist.append(min_dst)\n",
    "    else:\n",
    "        dist = np.zeros_like(len(results.x_iters))\n",
    "    X = np.array(result.x_iters)\n",
    "    df = pd.DataFrame({'loss': result.func_vals, 'pure_loss': pure_loss, 'dist': dist,\n",
    "                       'iteration': np.arange(len(result.x_iters)),\n",
    "                       **{name: X[:, i] for i, name in enumerate(h_names)}})\n",
    "    prev_func = func\n",
    "    df = df.set_index('iteration')\n",
    "    df.to_csv(os.path.join(out_dir, func.__name__)+'.csv')"
   ]
  }
 ],
 "metadata": {
  "kernelspec": {
   "display_name": "Python 3",
   "language": "python",
   "name": "python3"
  },
  "language_info": {
   "codemirror_mode": {
    "name": "ipython",
    "version": 3
   },
   "file_extension": ".py",
   "mimetype": "text/x-python",
   "name": "python",
   "nbconvert_exporter": "python",
   "pygments_lexer": "ipython3",
   "version": "3.8.1"
  }
 },
 "nbformat": 4,
 "nbformat_minor": 4
}
