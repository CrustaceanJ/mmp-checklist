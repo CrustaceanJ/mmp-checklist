{
 "cells": [
  {
   "cell_type": "code",
   "execution_count": 15,
   "metadata": {},
   "outputs": [],
   "source": [
    "import skopt\n",
    "import numpy as np\n",
    "import pandas as pd\n",
    "import os\n",
    "import math\n",
    "import subprocess\n",
    "from skopt import Optimizer\n",
    "from skopt.space import Real\n",
    "from skopt.learning.gaussian_process.kernels import ConstantKernel, Matern, RBF\n",
    "from skopt.learning import GaussianProcessRegressor"
   ]
  },
  {
   "cell_type": "markdown",
   "metadata": {},
   "source": [
    "## Test Functions"
   ]
  },
  {
   "cell_type": "code",
   "execution_count": 16,
   "metadata": {},
   "outputs": [],
   "source": [
    "def hump_nf(args):\n",
    "    x, y = args\n",
    "    result = (4 - 2.1*x**2 + x**4/3)*x**2 + x*y + (-4 + 4*y**2)*y**2\n",
    "    result = float(result)\n",
    "    return result"
   ]
  },
  {
   "cell_type": "code",
   "execution_count": 17,
   "metadata": {},
   "outputs": [],
   "source": [
    "def branin_nf(args):\n",
    "    x, y = args\n",
    "    result = np.square(y - (5.1/(4*np.square(math.pi)))*np.square(x) + \n",
    "         (5/math.pi)*x - 6) + 10*(1-(1./(8*math.pi)))*np.cos(x) + 10\n",
    "    result = float(result)\n",
    "    return result"
   ]
  },
  {
   "cell_type": "code",
   "execution_count": 18,
   "metadata": {},
   "outputs": [],
   "source": [
    "def griewank_nf(args):\n",
    "    x = np.array(args)\n",
    "    result = 1 + 1.0/4000 * (x**2).sum() - np.prod(np.cos(x/np.arange(1, x.size + 1)**0.5))\n",
    "    result = float(result)\n",
    "    return result"
   ]
  },
  {
   "cell_type": "code",
   "execution_count": 19,
   "metadata": {},
   "outputs": [],
   "source": [
    "def rosenbrock_nf(args):\n",
    "    x, y = args\n",
    "    result = 100*(y - x**2)**2 + (x - 1)**2\n",
    "    result = float(result)\n",
    "    return result"
   ]
  },
  {
   "cell_type": "code",
   "execution_count": 20,
   "metadata": {},
   "outputs": [],
   "source": [
    "def easom_nf(args):\n",
    "    x, y = args\n",
    "    result = -np.cos(x)*np.cos(y)*np.exp(-(x-np.pi)**2-(y-np.pi)**2)\n",
    "    result = float(result)\n",
    "    return result"
   ]
  },
  {
   "cell_type": "code",
   "execution_count": 21,
   "metadata": {},
   "outputs": [],
   "source": [
    "def colville(args):\n",
    "    x1, x2, x3, x4 = args\n",
    "    result = 100*(x1**2 - x2)**2 + (x1-1)**2 + (x3-1)**2 \\\n",
    "             + 90*(x3**2-x4)**2 + 10.1*((x2-1)**2 + (x4-1)**2) \\\n",
    "             + 19.8*(x2-1)*(x4-1)\n",
    "    return result\n",
    "    "
   ]
  },
  {
   "cell_type": "markdown",
   "metadata": {},
   "source": [
    "## TEST ADR WITH EI"
   ]
  },
  {
   "cell_type": "code",
   "execution_count": 22,
   "metadata": {},
   "outputs": [],
   "source": [
    "acq = 'EI'\n",
    "n_calls = 40\n",
    "noise_level = 0.0"
   ]
  },
  {
   "cell_type": "code",
   "execution_count": 23,
   "metadata": {},
   "outputs": [],
   "source": [
    "# function, space to optimize\n",
    "params = [(hump_nf,           [Real(-3, 3, name='x', transform='identity'),\n",
    "                               Real(-2, 2, name='y', transform='identity')],\n",
    "                              (np.array([0.0898, -0.7126], dtype=np.float),\n",
    "                               np.array([-0.0898, 0.7126], dtype=np.float)), ('x', 'y')),\n",
    "          (branin_nf,         [Real(-5, 10, name='x', transform='identity'),\n",
    "                               Real(0, 15, name='y', transform='identity')],\n",
    "                              (np.array([-np.pi, 12.275], dtype=np.float),\n",
    "                               np.array([np.pi, 2.275], dtype=np.float),\n",
    "                               np.array([9.42478, 2.475], dtype=np.float)), ('x', 'y')),\n",
    "          (rosenbrock_nf,     [Real(-5, 10, name='x', transform='identity'),\n",
    "                               Real(-5, 10, name='y', transform='identity')],\n",
    "                              (np.array([1, 1], dtype=np.float),), ('x', 'y')),\n",
    "          (griewank_nf,       [Real(-2, 2, name='x1', transform='identity'),\n",
    "                               Real(-2, 2, name='x2', transform='identity'),\n",
    "                               Real(-2, 2, name='x3', transform='identity'),\n",
    "                               Real(-2, 2, name='x4', transform='identity'),\n",
    "                               Real(-2, 2, name='x5', transform='identity'),\n",
    "                               Real(-2, 2, name='x6', transform='identity')],\n",
    "                              (np.zeros(6, dtype=np.float,)), ('x1', 'x2', 'x3', 'x4', 'x5', 'x6')),\n",
    "          (easom_nf,          [Real(-100, 100, name='x', transform='identity'),\n",
    "                               Real(-100, 100, name='y', transform='identity')],\n",
    "                              (np.array([np.pi, np.pi], dtype=np.float),), ('x', 'y')),\n",
    "          (colville,          [Real(-10, 10, name='x1', transform='identity'),\n",
    "                               Real(-10, 10, name='x2', transform='identity'),\n",
    "                               Real(-10, 10, name='x3', transform='identity'),\n",
    "                               Real(-10, 10, name='x4', transform='identity')],\n",
    "                              (np.array([1, 1, 1, 1], dtype=np.float),),\n",
    "                              ('x1', 'x2', 'x3', 'x4'))\n",
    "         ]"
   ]
  },
  {
   "cell_type": "code",
   "execution_count": 31,
   "metadata": {},
   "outputs": [
    {
     "name": "stderr",
     "output_type": "stream",
     "text": [
      "/home/crus/anaconda3/envs/torch/lib/python3.8/site-packages/skopt/optimizer/optimizer.py:409: UserWarning: The objective has been evaluated at this point before.\n",
      "  warnings.warn(\"The objective has been evaluated \"\n",
      "/home/crus/anaconda3/envs/torch/lib/python3.8/site-packages/skopt/optimizer/optimizer.py:409: UserWarning: The objective has been evaluated at this point before.\n",
      "  warnings.warn(\"The objective has been evaluated \"\n"
     ]
    }
   ],
   "source": [
    "out_dir = os.path.join('results_ADR')\n",
    "if not os.path.isdir(out_dir):\n",
    "    os.makedirs(out_dir)\n",
    "\n",
    "prev_func = None\n",
    "kernels = [1.0 * RBF(length_scale=1.0, length_scale_bounds=(1e-1, 10.0)),\n",
    "           1.0 * Matern(length_scale=1.0, length_scale_bounds=(1e-1, 10.0), nu=2.5),\n",
    "           1.0 * Matern(length_scale=1.0, length_scale_bounds=(1e-1, 10.0), nu=1.5),\n",
    "           1.0 * RBF(length_scale=1.0, length_scale_bounds='fixed'),\n",
    "           1.0 * Matern(length_scale=1.0, length_scale_bounds='fixed', nu=2.5),\n",
    "           1.0 * Matern(length_scale=1.0, length_scale_bounds='fixed', nu=1.5)]\n",
    "ker_names = ['RBF_UPD', 'MATERN5_UPD', 'MATERN3_UPD',\n",
    "            'RBF_FIX', 'MATERN5_FIX', 'MATERN3_FIX']\n",
    "\n",
    "for kernel, ker_name in zip(kernels, ker_names):\n",
    "    for i, (func, space, pts, h_names) in enumerate(params):\n",
    "        gpr = GaussianProcessRegressor(kernel=kernel, alpha=noise_level**2,\n",
    "                                       normalize_y=True, noise=\"gaussian\")\n",
    "        opt_gp = Optimizer(space, base_estimator=gpr, acq_func=acq, n_initial_points=1,\n",
    "                acq_optimizer=\"auto\", random_state=np.random.RandomState(1))\n",
    "\n",
    "        for n in range(n_calls):\n",
    "            next_x = opt_gp.ask()\n",
    "            next_y = func(next_x)\n",
    "            result = opt_gp.tell(next_x, next_y)\n",
    "            \n",
    "        pure_loss = [func(x) for x in result.x_iters]\n",
    "        dist = []\n",
    "        for x in result.x_iters:\n",
    "            min_dst = np.linalg.norm(x - pts[0])\n",
    "            for k in range(1, len(pts)):\n",
    "                min_dst = min(min_dst, np.linalg.norm(x - pts[k]))\n",
    "            dist.append(min_dst)\n",
    "        X = np.array(result.x_iters)\n",
    "        df = pd.DataFrame({'loss': result.func_vals, 'pure_loss': pure_loss, 'dist': dist,\n",
    "                           'iteration': np.arange(len(result.x_iters)),\n",
    "                           **{name: X[:, i] for i, name in enumerate(h_names)}, 'kernel': ker_name})\n",
    "        df = df.set_index('iteration')\n",
    "        df.to_csv(os.path.join(out_dir, func.__name__ + '_' + ker_name)+'.csv')"
   ]
  }
 ],
 "metadata": {
  "kernelspec": {
   "display_name": "Python 3",
   "language": "python",
   "name": "python3"
  },
  "language_info": {
   "codemirror_mode": {
    "name": "ipython",
    "version": 3
   },
   "file_extension": ".py",
   "mimetype": "text/x-python",
   "name": "python",
   "nbconvert_exporter": "python",
   "pygments_lexer": "ipython3",
   "version": "3.8.1"
  }
 },
 "nbformat": 4,
 "nbformat_minor": 4
}
